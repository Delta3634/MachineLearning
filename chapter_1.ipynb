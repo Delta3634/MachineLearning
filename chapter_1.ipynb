{
 "cells": [
  {
   "cell_type": "markdown",
   "metadata": {},
   "source": [
    "# 学习前的准备\n",
    "## 机器学习初认识\n",
    "1. 定义：从数据中总结规律的统计方法。\n",
    "2. 组成：各种用于总结规律并进行预测或分类的模型（算法）。\n",
    "3. 地位：包含**神经网络模型**和**深度学习**等方法。\n",
    "* **神经网络模型**：使用多个神经元（神经细胞模型）的方法\n",
    "* **深度学习**：在多个层使用大量神经元的方法。\n",
    "4. 学习窍门：\n",
    "   * 假设维度D为2；\n",
    "   * 编写程序；\n",
    "5. **问题分类**：\n",
    "   * 有监督学习；\n",
    "     >对于输入给出相应的输出\n",
    "   * 无监督学习；\n",
    "     >发现输入数据的规律\n",
    "   * 强化学习；\n",
    "     >找出使最后结果（整体结果）达到最优的动作"
   ]
  },
  {
   "cell_type": "markdown",
   "metadata": {},
   "source": [
    "## Python前置知识复习\n",
    "### 基本语法\n",
    "#### 1. 四则运算：就正常输入\n",
    "例如：\n"
   ]
  },
  {
   "cell_type": "code",
   "execution_count": 2,
   "metadata": {},
   "outputs": [
    {
     "data": {
      "text/plain": [
       "2.2"
      ]
     },
     "execution_count": 2,
     "metadata": {},
     "output_type": "execute_result"
    }
   ],
   "source": [
    "(1+2+3+5)/5"
   ]
  },
  {
   "cell_type": "markdown",
   "metadata": {},
   "source": [
    "#### 2. **幂运算**：用**表示"
   ]
  },
  {
   "cell_type": "code",
   "execution_count": 3,
   "metadata": {},
   "outputs": [
    {
     "data": {
      "text/plain": [
       "256"
      ]
     },
     "execution_count": 3,
     "metadata": {},
     "output_type": "execute_result"
    }
   ],
   "source": [
    "2**8"
   ]
  },
  {
   "cell_type": "markdown",
   "metadata": {},
   "source": [
    "#### 3. 变量：字母数字下划线，不能以数字开头，大小写敏感\n",
    "#### 4. **类型**：  \n",
    "int(整数),float(实数),str,bool,list(列表,shuzu ),tuple(元组、数组，元素不可修改),ndarray(矩阵,eg.a=np.array([1,2,3]))  \n",
    "* **检查类型**：type()"
   ]
  },
  {
   "cell_type": "code",
   "execution_count": 6,
   "metadata": {},
   "outputs": [
    {
     "name": "stdout",
     "output_type": "stream",
     "text": [
      "[1 2 3]\n"
     ]
    }
   ],
   "source": [
    "import numpy as np\n",
    "a = np.array([1,2,3])\n",
    "print(a)"
   ]
  },
  {
   "cell_type": "markdown",
   "metadata": {},
   "source": [
    "#### 5. **print语句**：print()\n",
    "字符串格式化：\n",
    "* \"%占位符\" % 变量\n",
    "* 语法：f\"内容{变量}\"\n",
    "   -- 不限制数据类型，也不做精度控制"
   ]
  },
  {
   "cell_type": "code",
   "execution_count": null,
   "metadata": {},
   "outputs": [
    {
     "name": "stdout",
     "output_type": "stream",
     "text": [
      "hello,I am Delta\n",
      "我出生在10月，现在平均工资为每月：20000 元\n",
      "我叫Delta,我出生在 9月，现在平均工资为每月：20000.13 元\n",
      "我叫Delta,我出生在9月，现在平均工资为每月：20000.1314 元\n"
     ]
    }
   ],
   "source": [
    "'''\n",
    " - 占位型拼接 \n",
    "  %s  (%:占位 s:将内容转换成字符串，放到占位的地方)  \n",
    "  %d  (%:占位 d:将内容转换成整数，放到占位的地方)  \n",
    "  %f  (%:占位 f:将内容转换成a浮点型，放到占位的地方)  \n",
    "    -- 控制精度：(m.n) --%m,%m.n,%.n都可以单独出现\n",
    "    -- m：控制宽度，要求是数字（很少使用），设置的宽度小于自身，不生效\n",
    "    -- .n：控制小数点精度，要求是数字，会进行小数的四舍五入\n",
    "    -- %5d:数字宽度控制在5位，不够的前面补够空格\n",
    "    -- %5.2f:宽度控制为5，小数点精度设置为2(这种时候会四舍五入)\n",
    "   -- e.g name = \"Delta\"\n",
    "          print(\"hello,I am %s\" % name)\n",
    "   -- 多个变量占位，变量要用括号括起来，并且按照占位的顺序填入\n",
    "'''\n",
    "name = \"Delta\"\n",
    "print(\"hello,I am %s\" % name)\n",
    "\n",
    "# 将数字都换成字符串来拼接\n",
    "birth_month = 10\n",
    "avg_salary = 20000\n",
    "message = \"我出生在%s月，现在平均工资为每月：%s 元\" %(birth_month,avg_salary)\n",
    "print(message)\n",
    "# 各自用各自的占位方式来完成拼接,同时进行精度控制\n",
    "name_self = \"Delta\"\n",
    "birth_month = 9\n",
    "avg_salary = 20000.1314\n",
    "message = \"我叫%s,我出生在%2d月，现在平均工资为每月：%.2f 元\" %(name_self,birth_month,avg_salary)\n",
    "print(message)\n",
    "# 快速格式化\n",
    "name_self = \"Delta\"\n",
    "birth_month = 9\n",
    "avg_salary = 20000.1314\n",
    "message = f\"我叫{name_self},我出生在{birth_month}月，现在平均工资为每月：{avg_salary} 元\"\n",
    "print(message)"
   ]
  },
  {
   "cell_type": "markdown",
   "metadata": {},
   "source": [
    "#### 6. **list**、**tuple**:  均可用来表示数组\n",
    "* list[],tuple();  \n",
    "* list里的元素也可以是list,查询时list[i][j]就OK;  \n",
    "* tuple中的元素不能改变\n",
    "\n",
    "**创建连续的整数数组**：range()  \n",
    "* range中的元素同样不可修改；  \n",
    "* 起始数字省略则默认是从0开始；  \n",
    "* 末尾的数字是期望数字+1；"
   ]
  },
  {
   "cell_type": "code",
   "execution_count": 2,
   "metadata": {},
   "outputs": [
    {
     "name": "stdout",
     "output_type": "stream",
     "text": [
      "5\n",
      "6\n",
      "7\n",
      "8\n",
      "9\n"
     ]
    }
   ],
   "source": [
    "y = range(5,10)\n",
    "i=0\n",
    "while i < len(y):\n",
    "    print(y[i])\n",
    "    i += 1\n"
   ]
  },
  {
   "cell_type": "markdown",
   "metadata": {},
   "source": [
    "#### 7. **for、while**\n",
    "#### 8. **if**\n",
    "#### 9. **向量**\n",
    "* **NumPy**：表示向量和矩阵时需要导入此库"
   ]
  },
  {
   "cell_type": "code",
   "execution_count": null,
   "metadata": {},
   "outputs": [
    {
     "data": {
      "text/plain": [
       "array([1, 2])"
      ]
     },
     "execution_count": 9,
     "metadata": {},
     "output_type": "execute_result"
    }
   ],
   "source": [
    "import numpy as np\n",
    "# 定义向量\n",
    "x = np.array([1,2])\n",
    "x\n",
    "# print(x) # 执行这句则不会出现array([1,2])，而会直接输出[1 2];"
   ]
  },
  {
   "cell_type": "code",
   "execution_count": 12,
   "metadata": {},
   "outputs": [
    {
     "name": "stdout",
     "output_type": "stream",
     "text": [
      "[4 6]\n",
      "<class 'numpy.ndarray'>\n",
      "2\n",
      "[100   2]\n"
     ]
    }
   ],
   "source": [
    "import numpy as np\n",
    "x = np.array([1,2])\n",
    "y = np.array([3,4])\n",
    "print(x+y)\n",
    "print(type(x))\n",
    "print(x[1]) # 读取元素\n",
    "x[0] = 100 # 替换元素\n",
    "print(x)"
   ]
  },
  {
   "cell_type": "markdown",
   "metadata": {},
   "source": [
    "**创建连续整数的向量**：np.arange(n),元素递增的向量数组"
   ]
  },
  {
   "cell_type": "code",
   "execution_count": 13,
   "metadata": {},
   "outputs": [
    {
     "name": "stdout",
     "output_type": "stream",
     "text": [
      "[0 1 2 3 4 5 6 7 8 9]\n",
      "<class 'numpy.ndarray'>\n"
     ]
    }
   ],
   "source": [
    "import numpy as np\n",
    "x = np.arange(10)\n",
    "print(x)\n",
    "print(type(x))"
   ]
  },
  {
   "cell_type": "markdown",
   "metadata": {},
   "source": [
    "**ndarray类型可以进行向量计算，list不可以**"
   ]
  },
  {
   "cell_type": "code",
   "execution_count": 15,
   "metadata": {},
   "outputs": [
    {
     "name": "stdout",
     "output_type": "stream",
     "text": [
      "[4 6]\n",
      "[1, 2, 3, 4]\n"
     ]
    }
   ],
   "source": [
    "import numpy as np\n",
    "x = np.array([1,2])\n",
    "y = np.array([3,4])\n",
    "print(x+y)\n",
    "\n",
    "print([1,2]+[3,4])"
   ]
  },
  {
   "cell_type": "markdown",
   "metadata": {},
   "source": [
    "复制ndarray类型的数据时，不可以简单地a=b,而要**a=b.copy()**  \n",
    "* a=b,会导致后面b改变时,a也跟着变  \n",
    "* 而.copy()就不会这样"
   ]
  },
  {
   "cell_type": "code",
   "execution_count": 16,
   "metadata": {},
   "outputs": [
    {
     "name": "stdout",
     "output_type": "stream",
     "text": [
      "[1 2]\n",
      "[3 4]\n",
      "[20  2]\n",
      "[3 4]\n"
     ]
    }
   ],
   "source": [
    "import numpy as np\n",
    "x = np.array([1,2])\n",
    "y = np.array([3,4])\n",
    "a = x\n",
    "b = y.copy()\n",
    "print(a)\n",
    "print(b)\n",
    "x[0] = 20\n",
    "print(a)\n",
    "print(b)"
   ]
  },
  {
   "cell_type": "markdown",
   "metadata": {},
   "source": [
    "#### 10. **矩阵**\n",
    "* 定义 np.array([[...],[...]]) --**很明显可以看出是list类型-[]**\n",
    "* 大小 .shape\n",
    "* 读取 x[i,j]\n",
    "* 替换 x[i,j] = a\n",
    "* 生成元素为0或1的矩阵：np.zeros(size);np.ones(size),**size为tuple型,用括号括起**\n",
    "* 生成元素随机的矩阵 np.random.rand(size)\n",
    "* 改变矩阵的大小 a = a.reshape(i,j) i*j的矩阵"
   ]
  },
  {
   "cell_type": "code",
   "execution_count": 3,
   "metadata": {},
   "outputs": [
    {
     "name": "stdout",
     "output_type": "stream",
     "text": [
      "[[1 2 3]\n",
      " [4 5 6]]\n",
      "(2, 3)\n",
      "3\n",
      "[[1 2 1]\n",
      " [4 5 6]]\n",
      "[0. 0. 0. 0. 0. 0. 0. 0. 0. 0.]\n",
      "[[0. 0. 0. 0. 0. 0. 0. 0. 0. 0.]\n",
      " [0. 0. 0. 0. 0. 0. 0. 0. 0. 0.]]\n",
      "[[1. 1. 1. 1. 1. 1. 1. 1. 1. 1.]\n",
      " [1. 1. 1. 1. 1. 1. 1. 1. 1. 1.]]\n",
      "[0.97579801 0.87311772 0.05761227 0.11036067 0.26158287 0.44664679\n",
      " 0.85654807 0.64851895 0.11548921 0.3006237 ]\n",
      "[[1. 1. 1. 1. 1.]\n",
      " [1. 1. 1. 1. 1.]\n",
      " [1. 1. 1. 1. 1.]\n",
      " [1. 1. 1. 1. 1.]]\n"
     ]
    }
   ],
   "source": [
    "import numpy as np\n",
    "x = np.array([[1,2,3],[4,5,6]])\n",
    "print(x)\n",
    "print(x.shape) # 大小\n",
    "print(x[0,2])\n",
    "x[0][2] = 1 # 修改元素\n",
    "print(x)\n",
    "y = np.zeros(10) # 10个0\n",
    "y_12 = np.zeros((2,10)) # 2*10个0\n",
    "z = np.ones((2,10))\n",
    "print(y)\n",
    "print(y_12)\n",
    "print(z)\n",
    "J = np.random.rand(10) # 生成元素随机的矩阵\n",
    "print(J)\n",
    "z = z.reshape(4,5) # 改变矩阵大小\n",
    "print(z)\n"
   ]
  },
  {
   "cell_type": "markdown",
   "metadata": {},
   "source": [
    "#### 11.矩阵的四则运算\n",
    "1. +、-：正常\n",
    "2. **标量*矩阵**：矩阵中的所有元素都会受到影响"
   ]
  },
  {
   "cell_type": "code",
   "execution_count": 22,
   "metadata": {},
   "outputs": [
    {
     "name": "stdout",
     "output_type": "stream",
     "text": [
      "[[10 20 30]\n",
      " [40 50 60]]\n"
     ]
    }
   ],
   "source": [
    "import numpy as np\n",
    "x = np.array([[1,2,3],[4,5,6]])\n",
    "print(10*x)"
   ]
  },
  {
   "cell_type": "markdown",
   "metadata": {},
   "source": [
    "3. **算数函数**：\n",
    "* np.sqrt(x): 平方根\n",
    "* np.exp(x): 指数函数\n",
    "* np.log(x): 对数函数\n",
    "* np.round(x,小数点后的位数): 四舍五入\n",
    "* np.mean(x): 均值函数\n",
    "* np.std(x): 标准差函数\n",
    "* np.max(x),np.min(x): 最值\n",
    "4. **矩阵乘积**：矩阵v,w的乘积：v.dot(w)"
   ]
  },
  {
   "cell_type": "code",
   "execution_count": 23,
   "metadata": {},
   "outputs": [
    {
     "name": "stdout",
     "output_type": "stream",
     "text": [
      "[[2. 2. 2.]\n",
      " [3. 3. 3.]]\n"
     ]
    }
   ],
   "source": [
    "import numpy as np\n",
    "x = np.array([[4,4,4],[9,9,9]])\n",
    "print(np.sqrt(x))"
   ]
  },
  {
   "cell_type": "code",
   "execution_count": 24,
   "metadata": {},
   "outputs": [
    {
     "name": "stdout",
     "output_type": "stream",
     "text": [
      "11\n"
     ]
    }
   ],
   "source": [
    "x = np.array([1,2])\n",
    "y = np.array([3,4])\n",
    "print(x.dot(y))"
   ]
  },
  {
   "cell_type": "markdown",
   "metadata": {},
   "source": [
    "#### 12. 切片\n",
    "list和ndarray类型都具有此功能，可以**将元素的一部分汇总起来表示**  \n",
    "表示方法：“**：**”\n",
    "* 例如：\n",
    "   * **变量名[:n]**--一次性读取0~n-1的元素\n",
    "   * **变量名[n:]**--读取从n到末尾的元素\n",
    "   * **变量名[n1:n2]**--读取读取n1~n2-1的元素\n",
    "   * **变量名[n1:n2:dn]**--每隔dn从n1~n2-1读取一个元素\n",
    "   * **变量名[::-1]**--实现逆序读取\n",
    "   * 还适用于一维以上的ndarray类型"
   ]
  },
  {
   "cell_type": "code",
   "execution_count": 8,
   "metadata": {},
   "outputs": [
    {
     "name": "stdout",
     "output_type": "stream",
     "text": [
      "[0.83884472 0.92452701 0.58492357 0.17040238 0.87288188 0.14244074\n",
      " 0.24062303 0.63380647 0.28301636 0.69236226]\n",
      "[0.83884472 0.92452701 0.58492357 0.17040238 0.87288188 0.14244074\n",
      " 0.24062303 0.63380647]\n",
      "[0.58492357 0.17040238 0.87288188 0.14244074 0.24062303 0.63380647\n",
      " 0.28301636 0.69236226]\n",
      "[0.92452701 0.58492357 0.17040238 0.87288188 0.14244074 0.24062303]\n",
      "[0.58492357 0.87288188 0.24062303]\n",
      "[0.69236226 0.28301636 0.63380647 0.24062303 0.14244074 0.87288188\n",
      " 0.17040238 0.58492357 0.92452701 0.83884472]\n",
      "[[2 3]\n",
      " [9 8]]\n"
     ]
    }
   ],
   "source": [
    "import numpy as np\n",
    "x = np.random.rand(10)\n",
    "print(x)\n",
    "print(x[:8])\n",
    "print(x[2:])\n",
    "print(x[1:7])\n",
    "print(x[2:8:2])\n",
    "print(x[::-1])\n",
    "z = np.array([[1,2,3,4,5],[0,9,8,7,6]])\n",
    "print(z[:2,1:3])"
   ]
  },
  {
   "cell_type": "markdown",
   "metadata": {},
   "source": [
    "#### 13. 替换满足条件的数据-**bool数组**\n"
   ]
  },
  {
   "cell_type": "code",
   "execution_count": 9,
   "metadata": {},
   "outputs": [
    {
     "data": {
      "text/plain": [
       "array([False, False, False, False,  True,  True,  True])"
      ]
     },
     "execution_count": 9,
     "metadata": {},
     "output_type": "execute_result"
    }
   ],
   "source": [
    "import numpy as np\n",
    "x = np.array([1,1,2,3,5,8,13])\n",
    "x>3"
   ]
  },
  {
   "cell_type": "code",
   "execution_count": 10,
   "metadata": {},
   "outputs": [
    {
     "data": {
      "text/plain": [
       "array([ 5,  8, 13])"
      ]
     },
     "execution_count": 10,
     "metadata": {},
     "output_type": "execute_result"
    }
   ],
   "source": [
    "x[x>3]"
   ]
  },
  {
   "cell_type": "code",
   "execution_count": 11,
   "metadata": {},
   "outputs": [
    {
     "name": "stdout",
     "output_type": "stream",
     "text": [
      "[  1   1   2   3 999 999 999]\n"
     ]
    }
   ],
   "source": [
    "x[x>3] = 999\n",
    "print(x)"
   ]
  },
  {
   "cell_type": "markdown",
   "metadata": {},
   "source": [
    "#### 14. help\n",
    "**help(函数名)**：可以将该函数的说明文件显示出来"
   ]
  },
  {
   "cell_type": "code",
   "execution_count": 12,
   "metadata": {},
   "outputs": [
    {
     "name": "stdout",
     "output_type": "stream",
     "text": [
      "Help on method randint in module numpy.random:\n",
      "\n",
      "randint(low, high=None, size=None, dtype=<class 'int'>) method of numpy.random.mtrand.RandomState instance\n",
      "    randint(low, high=None, size=None, dtype=int)\n",
      "\n",
      "    Return random integers from `low` (inclusive) to `high` (exclusive).\n",
      "\n",
      "    Return random integers from the \"discrete uniform\" distribution of\n",
      "    the specified dtype in the \"half-open\" interval [`low`, `high`). If\n",
      "    `high` is None (the default), then results are from [0, `low`).\n",
      "\n",
      "    .. note::\n",
      "        New code should use the `~numpy.random.Generator.integers`\n",
      "        method of a `~numpy.random.Generator` instance instead;\n",
      "        please see the :ref:`random-quick-start`.\n",
      "\n",
      "    Parameters\n",
      "    ----------\n",
      "    low : int or array-like of ints\n",
      "        Lowest (signed) integers to be drawn from the distribution (unless\n",
      "        ``high=None``, in which case this parameter is one above the\n",
      "        *highest* such integer).\n",
      "    high : int or array-like of ints, optional\n",
      "        If provided, one above the largest (signed) integer to be drawn\n",
      "        from the distribution (see above for behavior if ``high=None``).\n",
      "        If array-like, must contain integer values\n",
      "    size : int or tuple of ints, optional\n",
      "        Output shape.  If the given shape is, e.g., ``(m, n, k)``, then\n",
      "        ``m * n * k`` samples are drawn.  Default is None, in which case a\n",
      "        single value is returned.\n",
      "    dtype : dtype, optional\n",
      "        Desired dtype of the result. Byteorder must be native.\n",
      "        The default value is long.\n",
      "\n",
      "        .. warning::\n",
      "          This function defaults to the C-long dtype, which is 32bit on windows\n",
      "          and otherwise 64bit on 64bit platforms (and 32bit on 32bit ones).\n",
      "          Since NumPy 2.0, NumPy's default integer is 32bit on 32bit platforms\n",
      "          and 64bit on 64bit platforms.  Which corresponds to `np.intp`.\n",
      "          (`dtype=int` is not the same as in most NumPy functions.)\n",
      "\n",
      "    Returns\n",
      "    -------\n",
      "    out : int or ndarray of ints\n",
      "        `size`-shaped array of random integers from the appropriate\n",
      "        distribution, or a single such random int if `size` not provided.\n",
      "\n",
      "    See Also\n",
      "    --------\n",
      "    random_integers : similar to `randint`, only for the closed\n",
      "        interval [`low`, `high`], and 1 is the lowest value if `high` is\n",
      "        omitted.\n",
      "    random.Generator.integers: which should be used for new code.\n",
      "\n",
      "    Examples\n",
      "    --------\n",
      "    >>> np.random.randint(2, size=10)\n",
      "    array([1, 0, 0, 0, 1, 1, 0, 0, 1, 0]) # random\n",
      "    >>> np.random.randint(1, size=10)\n",
      "    array([0, 0, 0, 0, 0, 0, 0, 0, 0, 0])\n",
      "\n",
      "    Generate a 2 x 4 array of ints between 0 and 4, inclusive:\n",
      "\n",
      "    >>> np.random.randint(5, size=(2, 4))\n",
      "    array([[4, 0, 2, 1], # random\n",
      "           [3, 2, 2, 0]])\n",
      "\n",
      "    Generate a 1 x 3 array with 3 different upper bounds\n",
      "\n",
      "    >>> np.random.randint(1, [3, 5, 10])\n",
      "    array([2, 2, 9]) # random\n",
      "\n",
      "    Generate a 1 by 3 array with 3 different lower bounds\n",
      "\n",
      "    >>> np.random.randint([1, 5, 7], 10)\n",
      "    array([9, 8, 7]) # random\n",
      "\n",
      "    Generate a 2 by 4 array using broadcasting with dtype of uint8\n",
      "\n",
      "    >>> np.random.randint([1, 3, 5, 7], [[10], [20]], dtype=np.uint8)\n",
      "    array([[ 8,  6,  9,  7], # random\n",
      "           [ 1, 16,  9, 12]], dtype=uint8)\n",
      "\n"
     ]
    }
   ],
   "source": [
    "import numpy as np\n",
    "help(np.random.randint)"
   ]
  },
  {
   "cell_type": "markdown",
   "metadata": {},
   "source": [
    "#### 15. 函数"
   ]
  },
  {
   "cell_type": "markdown",
   "metadata": {},
   "source": [
    "#### 16. 保存文件\n",
    "* 保存一个ndarray类型变量\n",
    "   * 保存：**np.save('文件名.npy',变量名)** --文件后缀名:**.npy**\n",
    "   * 读取：**np.load('文件名.npy')**"
   ]
  },
  {
   "cell_type": "code",
   "execution_count": 13,
   "metadata": {},
   "outputs": [
    {
     "name": "stdout",
     "output_type": "stream",
     "text": [
      "[ 1  1  2  3  5  8 13]\n",
      "[]\n",
      "[ 1  1  2  3  5  8 13]\n"
     ]
    }
   ],
   "source": [
    "data = np.array([1,1,2,3,5,8,13])\n",
    "print(data)\n",
    "\n",
    "np.save('datafile.npy',data) # 保存文件\n",
    "data = []  # 清空数据\n",
    "print(data)\n",
    "\n",
    "data = np.load('datafile.npy') # 读取文件\n",
    "print(data)"
   ]
  },
  {
   "cell_type": "markdown",
   "metadata": {},
   "source": [
    "* 保存多个ndarray类型变量\n",
    "  * 保存：**np.savez('文件.npz',变量名1=变量名1,变量名2=变量名2,...)** --文件后缀名:**.npy**\n",
    "  * 读取：**np.load('文件名.npz')**"
   ]
  },
  {
   "cell_type": "code",
   "execution_count": 16,
   "metadata": {},
   "outputs": [
    {
     "name": "stdout",
     "output_type": "stream",
     "text": [
      "['data1', 'data2']\n",
      "[1 2 3]\n",
      "[10 20 30]\n"
     ]
    }
   ],
   "source": [
    "data1 = np.array([1,2,3])\n",
    "data2 = np.array([10,20,30])\n",
    "np.savez('datafile2.npz',data1=data1,data2=data2) # 保存文件\n",
    "data1 = []\n",
    "data2 = []\n",
    "outfile = np.load('datafile2.npz') # 读取文件\n",
    "print(outfile.files) # 显示存储的所有数据\n",
    "data1 = outfile['data1'] # 取出data1\n",
    "data2 = outfile['data2'] # 取出data2\n",
    "print(data1)\n",
    "print(data2)"
   ]
  }
 ],
 "metadata": {
  "kernelspec": {
   "display_name": "Python 3",
   "language": "python",
   "name": "python3"
  },
  "language_info": {
   "codemirror_mode": {
    "name": "ipython",
    "version": 3
   },
   "file_extension": ".py",
   "mimetype": "text/x-python",
   "name": "python",
   "nbconvert_exporter": "python",
   "pygments_lexer": "ipython3",
   "version": "3.13.1"
  }
 },
 "nbformat": 4,
 "nbformat_minor": 2
}
